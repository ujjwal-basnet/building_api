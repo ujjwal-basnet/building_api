{
 "cells": [
  {
   "cell_type": "code",
   "execution_count": 48,
   "id": "22b8e67d",
   "metadata": {},
   "outputs": [],
   "source": [
    "import pandas as pd\n",
    "from sqlalchemy import create_engine, Column, Integer, String, Date, Float, ForeignKey\n",
    "from sqlalchemy.orm import declarative_base, sessionmaker\n"
   ]
  },
  {
   "cell_type": "code",
   "execution_count": 49,
   "id": "46c4ffeb",
   "metadata": {},
   "outputs": [],
   "source": [
    "## data config \n",
    "SQLALCHEMY_DATABASE_URL = \"sqlite:///./fantasy_data.db\"\n",
    "\n",
    "engine= create_engine(SQLALCHEMY_DATABASE_URL, connect_args={\"check_same_thread\": False})\n",
    "SessionLocal = sessionmaker(autocommit=False, autoflush=False, bind=engine)\n",
    "Base = declarative_base()   "
   ]
  },
  {
   "cell_type": "markdown",
   "id": "fde87fcd",
   "metadata": {},
   "source": [
    "## Orm defination"
   ]
  },
  {
   "cell_type": "code",
   "execution_count": 50,
   "id": "01e95c6e",
   "metadata": {},
   "outputs": [
    {
     "name": "stdout",
     "output_type": "stream",
     "text": [
      "All ORM models defined. 🧑‍💻\n"
     ]
    }
   ],
   "source": [
    "# --- ORM Model Definitions ---\n",
    "\n",
    "class Player(Base):\n",
    "    __tablename__ = \"player\"\n",
    "    player_id = Column(Integer, primary_key=True, nullable=False)\n",
    "    gsis_id = Column(String)\n",
    "    first_name = Column(String, nullable=False)\n",
    "    last_name = Column(String, nullable=False)\n",
    "    position = Column(String, nullable=False)\n",
    "    last_changed_date = Column(Date, nullable=False)\n",
    "\n",
    "class League(Base):\n",
    "    __tablename__ = \"league\"\n",
    "    league_id = Column(Integer, primary_key=True, nullable=False)\n",
    "    league_name = Column(String, nullable=False)\n",
    "    scoring_type = Column(String, nullable=False)\n",
    "    last_changed_date = Column(Date, nullable=False)\n",
    "\n",
    "class Performance(Base):\n",
    "    __tablename__ = \"performance\"\n",
    "    performance_id = Column(Integer, primary_key=True, nullable=False)\n",
    "    week_number = Column(String, nullable=False)\n",
    "    fantasy_points = Column(Float, nullable=False)\n",
    "    player_id = Column(Integer, ForeignKey(\"player.player_id\"), nullable=False)\n",
    "    last_changed_date = Column(Date, nullable=False)\n",
    "\n",
    "class Team(Base):\n",
    "    __tablename__ = \"team\"\n",
    "    team_id = Column(Integer, primary_key=True, nullable=False)\n",
    "    team_name = Column(String, nullable=False)\n",
    "    league_id = Column(Integer, ForeignKey(\"league.league_id\"), nullable=False)\n",
    "    last_changed_date = Column(Date, nullable=False)\n",
    "\n",
    "class TeamPlayer(Base):\n",
    "    __tablename__ = \"team_player\"\n",
    "    # Composite primary key\n",
    "    team_id = Column(Integer, ForeignKey(\"team.team_id\"), primary_key=True, nullable=False)\n",
    "    player_id = Column(Integer, ForeignKey(\"player.player_id\"), primary_key=True, nullable=False)\n",
    "    last_changed_date = Column(Date, nullable=False)\n",
    "\n",
    "print(\"All ORM models defined. 🧑‍💻\")"
   ]
  },
  {
   "cell_type": "markdown",
   "id": "8870ba0d",
   "metadata": {},
   "source": [
    "Create Tables in the Database"
   ]
  },
  {
   "cell_type": "code",
   "execution_count": 51,
   "id": "a31d7cf6",
   "metadata": {},
   "outputs": [
    {
     "name": "stdout",
     "output_type": "stream",
     "text": [
      "Tables created successfully (if they didn't already exist). 🏗️\n"
     ]
    }
   ],
   "source": [
    "# Create all tables in the database\n",
    "Base.metadata.create_all(bind=engine)\n",
    "\n",
    "print(\"Tables created successfully (if they didn't already exist). 🏗️\")"
   ]
  },
  {
   "cell_type": "code",
   "execution_count": 52,
   "id": "f3a872de",
   "metadata": {},
   "outputs": [
    {
     "name": "stdout",
     "output_type": "stream",
     "text": [
      "Successfully loaded data/league_data.csv.\n",
      "Successfully loaded data/player_data.csv.\n",
      "Successfully loaded data/team_data.csv.\n",
      "Successfully loaded data/performance_data.csv.\n",
      "Successfully loaded data/team_player_data.csv.\n",
      "\n",
      "--- Sample of player_data ---\n",
      "   player_id     gsis_id first_name last_name position last_changed_date\n",
      "0       1001  00-0023459      Aaron   Rodgers       QB        2024-04-18\n",
      "1       1002  00-0023853       Matt    Prater        K        2024-04-18\n",
      "2       1003  00-0024243   Marcedes     Lewis       TE        2024-04-18\n",
      "3       1004  00-0025565       Nick      Folk        K        2024-04-18\n",
      "4       1005  00-0025580      Mason    Crosby        K        2024-04-18\n"
     ]
    }
   ],
   "source": [
    "# A dictionary mapping the ORM model class to its CSV file\n",
    "# This helps us automate the loading process\n",
    "model_csv_map = {\n",
    "    League: 'data/league_data.csv',\n",
    "    Player: 'data/player_data.csv',\n",
    "    Team: 'data/team_data.csv',\n",
    "    Performance: 'data/performance_data.csv',\n",
    "    TeamPlayer: 'data/team_player_data.csv'\n",
    "}\n",
    "\n",
    "# Load each CSV into a dictionary of DataFrames\n",
    "dataframes = {}\n",
    "for model, file_path in model_csv_map.items():\n",
    "    table_name = model.__tablename__\n",
    "    try:\n",
    "        # Note: We need to parse date columns correctly\n",
    "        df = pd.read_csv(file_path, parse_dates=['last_changed_date'])\n",
    "        dataframes[table_name] = df\n",
    "        print(f\"Successfully loaded {file_path}.\")\n",
    "    except FileNotFoundError:\n",
    "        print(f\"Error: {file_path} not found.\")\n",
    "    except Exception as e:\n",
    "        print(f\"Error loading {file_path}: {e}\")\n",
    "\n",
    "# Display a sample to verify\n",
    "if 'player' in dataframes:\n",
    "    print(\"\\n--- Sample of player_data ---\")\n",
    "    print(dataframes['player'].head())"
   ]
  },
  {
   "cell_type": "code",
   "execution_count": 53,
   "id": "5761c738",
   "metadata": {},
   "outputs": [
    {
     "name": "stdout",
     "output_type": "stream",
     "text": [
      "Bulk inserting 5 records into 'league' table.\n",
      "Bulk inserting 1018 records into 'player' table.\n",
      "Bulk inserting 20 records into 'team' table.\n",
      "Bulk inserting 17306 records into 'performance' table.\n",
      "Bulk inserting 140 records into 'team_player' table.\n",
      "\n",
      "Database transaction committed. ✅\n",
      "Session closed.\n"
     ]
    }
   ],
   "source": [
    "# Create a new session to interact with the database\n",
    "db = SessionLocal()\n",
    "\n",
    "try:\n",
    "    # We iterate through our map to ensure we load data for each model\n",
    "    for model, file_path in model_csv_map.items():\n",
    "        table_name = model.__tablename__\n",
    "        if table_name in dataframes:\n",
    "            df = dataframes[table_name]\n",
    "            \n",
    "            # Check if table is already populated to avoid duplicate data\n",
    "            if db.query(model).count() > 0:\n",
    "                print(f\"Table '{table_name}' already contains data. Skipping insertion.\")\n",
    "                continue\n",
    "\n",
    "            # Convert dataframe rows to a list of dictionaries\n",
    "            records_to_insert = df.to_dict(orient='records')\n",
    "            \n",
    "            # Use a bulk insert for efficiency\n",
    "            if records_to_insert:\n",
    "                db.bulk_insert_mappings(model, records_to_insert)\n",
    "                print(f\"Bulk inserting {len(records_to_insert)} records into '{table_name}' table.\")\n",
    "\n",
    "    # Commit the transaction to save all changes\n",
    "    db.commit()\n",
    "    print(\"\\nDatabase transaction committed. ✅\")\n",
    "\n",
    "except Exception as e:\n",
    "    print(f\"\\nAn error occurred: {e}\")\n",
    "    # Roll back the transaction in case of an error\n",
    "    db.rollback()\n",
    "    print(\"Transaction rolled back.\")\n",
    "finally:\n",
    "    # Always close the session\n",
    "    db.close()\n",
    "    print(\"Session closed.\")"
   ]
  },
  {
   "cell_type": "code",
   "execution_count": 54,
   "id": "46497535",
   "metadata": {},
   "outputs": [
    {
     "name": "stdout",
     "output_type": "stream",
     "text": [
      "\n",
      "--- Verifying Data with ORM Queries ---\n",
      "Found 1018 players in the database.\n",
      "Found 20 teams in the database.\n",
      "First player found: Aaron Rodgers\n",
      "\n",
      "Verification complete. Session closed. 🎉\n"
     ]
    }
   ],
   "source": [
    "# Open a new session for querying\n",
    "db = SessionLocal()\n",
    "\n",
    "try:\n",
    "    print(\"\\n--- Verifying Data with ORM Queries ---\")\n",
    "    \n",
    "    # Count players\n",
    "    player_count = db.query(Player).count()\n",
    "    print(f\"Found {player_count} players in the database.\")\n",
    "    \n",
    "    # Count teams\n",
    "    team_count = db.query(Team).count()\n",
    "    print(f\"Found {team_count} teams in the database.\")\n",
    "    \n",
    "    # Get the first player and print their name\n",
    "    first_player = db.query(Player).first()\n",
    "    if first_player:\n",
    "        print(f\"First player found: {first_player.first_name} {first_player.last_name}\")\n",
    "\n",
    "finally:\n",
    "    db.close()\n",
    "    print(\"\\nVerification complete. Session closed. 🎉\")"
   ]
  },
  {
   "cell_type": "code",
   "execution_count": null,
   "id": "fb45a5ea",
   "metadata": {},
   "outputs": [],
   "source": []
  }
 ],
 "metadata": {
  "kernelspec": {
   "display_name": "building_api",
   "language": "python",
   "name": "python3"
  },
  "language_info": {
   "codemirror_mode": {
    "name": "ipython",
    "version": 3
   },
   "file_extension": ".py",
   "mimetype": "text/x-python",
   "name": "python",
   "nbconvert_exporter": "python",
   "pygments_lexer": "ipython3",
   "version": "3.11.13"
  }
 },
 "nbformat": 4,
 "nbformat_minor": 5
}
