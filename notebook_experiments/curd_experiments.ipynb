{
 "cells": [
  {
   "cell_type": "code",
   "execution_count": 8,
   "id": "cdde1ca1",
   "metadata": {},
   "outputs": [],
   "source": [
    "import sys\n",
    "sys.path.append(\"/home/ujjwal/codes/building_api\")\n",
    "\n",
    "from app.models import League, Player, Team, Performance, TeamPlayer\n",
    "from database import Base, engine, SessionLocal"
   ]
  },
  {
   "cell_type": "code",
   "execution_count": 11,
   "id": "23ffb8f3",
   "metadata": {},
   "outputs": [
    {
     "data": {
      "text/plain": [
       "1018"
      ]
     },
     "execution_count": 11,
     "metadata": {},
     "output_type": "execute_result"
    }
   ],
   "source": [
    "db= SessionLocal() \n",
    "players = db.query(Player).all()\n",
    "len(players)"
   ]
  },
  {
   "cell_type": "code",
   "execution_count": 18,
   "id": "53b65303",
   "metadata": {},
   "outputs": [
    {
     "data": {
      "text/plain": [
       "'Aaron'"
      ]
     },
     "execution_count": 18,
     "metadata": {},
     "output_type": "execute_result"
    }
   ],
   "source": [
    "first_player= db.query(Player).first()\n",
    "first_player.first_name"
   ]
  },
  {
   "cell_type": "code",
   "execution_count": null,
   "id": "efcc1b08",
   "metadata": {},
   "outputs": [
    {
     "data": {
      "text/plain": [
       "'Aaron'"
      ]
     },
     "execution_count": 32,
     "metadata": {},
     "output_type": "execute_result"
    }
   ],
   "source": [
    "## get player name \n",
    "id= 1001\n",
    "db.query(Player).filter(Player.player_id==id).first().first_name\n"
   ]
  },
  {
   "cell_type": "code",
   "execution_count": 74,
   "id": "fb81a516",
   "metadata": {},
   "outputs": [
    {
     "name": "stdout",
     "output_type": "stream",
     "text": [
      "1101 Dwayne Washington 2024-04-18\n",
      "1102 Kalif Raymond 2024-04-18\n",
      "1103 Alex Erickson 2024-04-18\n",
      "1104 Wil Lutz 2024-04-18\n",
      "1105 Robbie Chosen 2024-04-18\n",
      "1106 Stephen Anderson 2024-04-18\n",
      "1107 Ka'imi Fairbairn 2024-04-18\n",
      "1108 Derrick Henry 2024-04-18\n",
      "1109 Michael Thomas 2024-04-18\n",
      "1110 Demarcus Robinson 2024-04-18\n",
      "1111 Jakeem Grant 2024-04-18\n",
      "1112 Nate Sudfeld 2024-04-18\n",
      "1113 C.J. Ham 2024-04-18\n",
      "1114 Carson Wentz 2024-04-18\n",
      "1115 Laquon Treadwell 2024-04-18\n",
      "1116 Jonathan Williams 2024-04-18\n",
      "1117 J.P. Holtz 2024-04-18\n",
      "1118 Jaydon Mickens 2024-04-18\n",
      "1119 Tyler Boyd 2024-04-18\n",
      "1120 Tyreek Hill 2024-04-18\n",
      "1121 Ezekiel Elliott 2024-04-18\n",
      "1122 Dak Prescott 2024-04-18\n",
      "1123 Hunter Henry 2024-04-18\n",
      "1124 Jared Goff 2024-04-18\n",
      "1125 Tyler Higbee 2024-04-18\n",
      "1126 Kenyan Drake 2024-04-18\n",
      "1127 Jacoby Brissett 2024-04-18\n",
      "1128 Mo Alie-Cox 2024-04-18\n",
      "1129 Johnny Mundt 2024-04-18\n",
      "1130 Zach Pascal 2024-04-18\n",
      "1131 Darrell Daniels 2024-04-18\n",
      "1132 PJ Walker 2024-04-18\n",
      "1133 Christian McCaffrey 2024-04-18\n",
      "1134 Curtis Samuel 2024-04-18\n",
      "1135 George Kittle 2024-04-18\n",
      "1136 Trent Taylor 2024-04-18\n",
      "1137 Aaron Jones 2024-04-18\n",
      "1138 Alex Armah 2024-04-18\n",
      "1139 Harrison Butker 2024-04-18\n",
      "1140 Kendrick Bourne 2024-04-18\n",
      "1141 Matt Breida 2024-04-18\n",
      "1142 Nick Mullens 2024-04-18\n",
      "1143 Taysom Hill 2024-04-18\n",
      "1144 Tim Patrick 2024-04-18\n",
      "1145 Patrick Ricard 2024-04-18\n",
      "1146 Jacob Hollister 2024-04-18\n",
      "1147 Pharaoh Brown 2024-04-18\n",
      "1148 Anthony Firkser 2024-04-18\n",
      "1149 John Ross 2024-04-18\n",
      "1150 Isaiah McKenzie 2024-04-18\n"
     ]
    }
   ],
   "source": [
    "## get players  by  min_last_changed\n",
    "min_last_changed = '2024-02-20 00:00:00'\n",
    "skip = 100\n",
    "limit= 50\n",
    "query= db.query(Player).filter(Player.last_changed_date >=min_last_changed)\n",
    "\n",
    "answers= query.offset(skip).limit(limit).all()\n",
    "\n",
    "for answer in answers:\n",
    "    print(answer.player_id, answer.first_name, answer.last_name, answer.last_changed_date)"
   ]
  },
  {
   "cell_type": "code",
   "execution_count": 82,
   "id": "a4017df0",
   "metadata": {},
   "outputs": [],
   "source": [
    "from sqlalchemy.orm import Session, joinedload\n",
    "from datetime import date"
   ]
  },
  {
   "cell_type": "code",
   "execution_count": 91,
   "id": "076f977a",
   "metadata": {},
   "outputs": [
    {
     "name": "stdout",
     "output_type": "stream",
     "text": [
      "1021 Cole Beasley 2024-04-18\n",
      "1022 Brandon Bolden 2024-04-18\n",
      "1023 Russell Wilson 2024-04-18\n",
      "1024 Marvin Jones 2024-04-18\n",
      "1025 Randy Bullock 2024-04-18\n",
      "1026 Justin Tucker 2024-04-18\n",
      "1027 Kirk Cousins 2024-04-18\n",
      "1028 Greg Zuerlein 2024-04-18\n",
      "1029 Ryan Tannehill 2024-04-18\n",
      "1030 Brandon McManus 2024-04-18\n"
     ]
    }
   ],
   "source": [
    "min_last_changed_date = date(2024, 4, 18)\n",
    "\n",
    "query = query.filter(models.Player.last_changed_date >= min_last_changed_date)\n",
    "query\n",
    "\n",
    "answers= query.offset(20).limit(10).all()\n",
    "for answer in answers:\n",
    "    print(answer.player_id, answer.first_name, answer.last_name, answer.last_changed_date)"
   ]
  },
  {
   "cell_type": "markdown",
   "id": "225dee39",
   "metadata": {},
   "source": [
    "## due to offset \n",
    "offset = 20 so \n",
    ", it starts from 1021 insited of 1000 \n",
    "and \n",
    "limit is 10 so only show 10 results"
   ]
  },
  {
   "cell_type": "code",
   "execution_count": null,
   "id": "bda03cdc",
   "metadata": {},
   "outputs": [],
   "source": []
  }
 ],
 "metadata": {
  "kernelspec": {
   "display_name": "building_api",
   "language": "python",
   "name": "python3"
  },
  "language_info": {
   "codemirror_mode": {
    "name": "ipython",
    "version": 3
   },
   "file_extension": ".py",
   "mimetype": "text/x-python",
   "name": "python",
   "nbconvert_exporter": "python",
   "pygments_lexer": "ipython3",
   "version": "3.11.13"
  }
 },
 "nbformat": 4,
 "nbformat_minor": 5
}
